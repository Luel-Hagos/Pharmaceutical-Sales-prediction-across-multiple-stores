{
 "cells": [
  {
   "cell_type": "markdown",
   "id": "092afdf6",
   "metadata": {},
   "source": [
    "## Import Libraries "
   ]
  },
  {
   "cell_type": "code",
   "execution_count": 1,
   "id": "237e6f4a",
   "metadata": {},
   "outputs": [],
   "source": [
    "import warnings\n",
    "warnings.filterwarnings('ignore')\n",
    "\n",
    "import pandas as pd"
   ]
  },
  {
   "cell_type": "markdown",
   "id": "171f2bc6",
   "metadata": {},
   "source": [
    "## Loading data"
   ]
  },
  {
   "cell_type": "code",
   "execution_count": 2,
   "id": "1975e495",
   "metadata": {},
   "outputs": [],
   "source": [
    "store_data = pd.read_csv('../data/store.csv')\n",
    "train_data = pd.read_csv('../data/train.csv')\n",
    "test_data = pd.read_csv('../data/test.csv')\n",
    "submission_data = pd.read_csv('../data/sample_submission.csv')"
   ]
  },
  {
   "cell_type": "code",
   "execution_count": 3,
   "id": "d4177da6",
   "metadata": {},
   "outputs": [
    {
     "name": "stdout",
     "output_type": "stream",
     "text": [
      "\t Store Columns \n",
      "['Store', 'StoreType', 'Assortment', 'CompetitionDistance', 'CompetitionOpenSinceMonth', 'CompetitionOpenSinceYear', 'Promo2', 'Promo2SinceWeek', 'Promo2SinceYear', 'PromoInterval']\n",
      "\n",
      "\t Train Columns \n",
      "['Store', 'DayOfWeek', 'Date', 'Sales', 'Customers', 'Open', 'Promo', 'StateHoliday', 'SchoolHoliday']\n",
      "\n",
      "\t Test Columns\n",
      " ['Id', 'Store', 'DayOfWeek', 'Date', 'Open', 'Promo', 'StateHoliday', 'SchoolHoliday']\n",
      "\n",
      "\t Submission Columns\n",
      " ['Id', 'Sales']\n"
     ]
    }
   ],
   "source": [
    "print(f'\\t Store Columns \\n{list(store_data.columns)}\\n')\n",
    "print(f'\\t Train Columns \\n{list(train_data.columns)}\\n')\n",
    "print(f'\\t Test Columns\\n {list(test_data.columns)}\\n')\n",
    "print(f'\\t Submission Columns\\n {list(submission_data.columns)}')"
   ]
  },
  {
   "cell_type": "code",
   "execution_count": 4,
   "id": "8e3af3f3",
   "metadata": {},
   "outputs": [
    {
     "name": "stdout",
     "output_type": "stream",
     "text": [
      "\t Store shape: (1115, 10)\n",
      "\n",
      "\t Train shape: (1017209, 9)\n",
      "\n",
      "\t Test shape: (41088, 8)\n",
      "\n",
      "\t Submission shape: (41088, 2)\n"
     ]
    }
   ],
   "source": [
    "print(f'\\t Store shape: {store_data.shape}\\n')\n",
    "print(f'\\t Train shape: {train_data.shape}\\n')\n",
    "print(f'\\t Test shape: {test_data.shape}\\n')\n",
    "print(f'\\t Submission shape: {submission_data.shape}')"
   ]
  },
  {
   "cell_type": "code",
   "execution_count": null,
   "id": "71d6ebfa",
   "metadata": {},
   "outputs": [],
   "source": []
  }
 ],
 "metadata": {
  "kernelspec": {
   "display_name": "Python 3",
   "language": "python",
   "name": "python3"
  },
  "language_info": {
   "codemirror_mode": {
    "name": "ipython",
    "version": 3
   },
   "file_extension": ".py",
   "mimetype": "text/x-python",
   "name": "python",
   "nbconvert_exporter": "python",
   "pygments_lexer": "ipython3",
   "version": "3.8.5"
  }
 },
 "nbformat": 4,
 "nbformat_minor": 5
}
